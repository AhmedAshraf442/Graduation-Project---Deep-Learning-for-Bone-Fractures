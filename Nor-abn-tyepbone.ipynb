{
 "cells": [
  {
   "cell_type": "code",
   "execution_count": 16,
   "id": "initial_id",
   "metadata": {
    "ExecuteTime": {
     "end_time": "2024-07-04T20:26:11.786207Z",
     "start_time": "2024-07-04T20:26:08.827835Z"
    },
    "collapsed": true
   },
   "outputs": [
    {
     "name": "stdout",
     "output_type": "stream",
     "text": [
      "Requirement already satisfied: tensorflow==2.15 in c:\\users\\youssef\\appdata\\local\\programs\\python\\python310\\lib\\site-packages (2.15.0)\n",
      "Requirement already satisfied: tensorflow-intel==2.15.0 in c:\\users\\youssef\\appdata\\local\\programs\\python\\python310\\lib\\site-packages (from tensorflow==2.15) (2.15.0)\n",
      "Requirement already satisfied: termcolor>=1.1.0 in c:\\users\\youssef\\appdata\\local\\programs\\python\\python310\\lib\\site-packages (from tensorflow-intel==2.15.0->tensorflow==2.15) (2.2.0)\n",
      "Requirement already satisfied: astunparse>=1.6.0 in c:\\users\\youssef\\appdata\\local\\programs\\python\\python310\\lib\\site-packages (from tensorflow-intel==2.15.0->tensorflow==2.15) (1.6.3)\n",
      "Requirement already satisfied: packaging in c:\\users\\youssef\\appdata\\local\\programs\\python\\python310\\lib\\site-packages (from tensorflow-intel==2.15.0->tensorflow==2.15) (21.3)\n",
      "Requirement already satisfied: google-pasta>=0.1.1 in c:\\users\\youssef\\appdata\\local\\programs\\python\\python310\\lib\\site-packages (from tensorflow-intel==2.15.0->tensorflow==2.15) (0.2.0)\n",
      "Requirement already satisfied: ml-dtypes~=0.2.0 in c:\\users\\youssef\\appdata\\local\\programs\\python\\python310\\lib\\site-packages (from tensorflow-intel==2.15.0->tensorflow==2.15) (0.2.0)\n",
      "Requirement already satisfied: protobuf!=4.21.0,!=4.21.1,!=4.21.2,!=4.21.3,!=4.21.4,!=4.21.5,<5.0.0dev,>=3.20.3 in c:\\users\\youssef\\appdata\\local\\programs\\python\\python310\\lib\\site-packages (from tensorflow-intel==2.15.0->tensorflow==2.15) (4.22.1)\n",
      "Requirement already satisfied: keras<2.16,>=2.15.0 in c:\\users\\youssef\\appdata\\local\\programs\\python\\python310\\lib\\site-packages (from tensorflow-intel==2.15.0->tensorflow==2.15) (2.15.0)\n",
      "Requirement already satisfied: setuptools in c:\\users\\youssef\\appdata\\local\\programs\\python\\python310\\lib\\site-packages (from tensorflow-intel==2.15.0->tensorflow==2.15) (58.1.0)\n",
      "Requirement already satisfied: wrapt<1.15,>=1.11.0 in c:\\users\\youssef\\appdata\\local\\programs\\python\\python310\\lib\\site-packages (from tensorflow-intel==2.15.0->tensorflow==2.15) (1.14.1)\n",
      "Requirement already satisfied: gast!=0.5.0,!=0.5.1,!=0.5.2,>=0.2.1 in c:\\users\\youssef\\appdata\\local\\programs\\python\\python310\\lib\\site-packages (from tensorflow-intel==2.15.0->tensorflow==2.15) (0.4.0)\n",
      "Requirement already satisfied: absl-py>=1.0.0 in c:\\users\\youssef\\appdata\\local\\programs\\python\\python310\\lib\\site-packages (from tensorflow-intel==2.15.0->tensorflow==2.15) (1.4.0)\n",
      "Requirement already satisfied: opt-einsum>=2.3.2 in c:\\users\\youssef\\appdata\\local\\programs\\python\\python310\\lib\\site-packages (from tensorflow-intel==2.15.0->tensorflow==2.15) (3.3.0)\n",
      "Requirement already satisfied: libclang>=13.0.0 in c:\\users\\youssef\\appdata\\local\\programs\\python\\python310\\lib\\site-packages (from tensorflow-intel==2.15.0->tensorflow==2.15) (16.0.0)\n",
      "Requirement already satisfied: flatbuffers>=23.5.26 in c:\\users\\youssef\\appdata\\local\\programs\\python\\python310\\lib\\site-packages (from tensorflow-intel==2.15.0->tensorflow==2.15) (24.3.25)\n",
      "Requirement already satisfied: tensorflow-io-gcs-filesystem>=0.23.1 in c:\\users\\youssef\\appdata\\local\\programs\\python\\python310\\lib\\site-packages (from tensorflow-intel==2.15.0->tensorflow==2.15) (0.31.0)\n",
      "Requirement already satisfied: tensorboard<2.16,>=2.15 in c:\\users\\youssef\\appdata\\local\\programs\\python\\python310\\lib\\site-packages (from tensorflow-intel==2.15.0->tensorflow==2.15) (2.15.2)\n",
      "Requirement already satisfied: grpcio<2.0,>=1.24.3 in c:\\users\\youssef\\appdata\\local\\programs\\python\\python310\\lib\\site-packages (from tensorflow-intel==2.15.0->tensorflow==2.15) (1.53.0)\n",
      "Requirement already satisfied: tensorflow-estimator<2.16,>=2.15.0 in c:\\users\\youssef\\appdata\\local\\programs\\python\\python310\\lib\\site-packages (from tensorflow-intel==2.15.0->tensorflow==2.15) (2.15.0)\n",
      "Requirement already satisfied: typing-extensions>=3.6.6 in c:\\users\\youssef\\appdata\\local\\programs\\python\\python310\\lib\\site-packages (from tensorflow-intel==2.15.0->tensorflow==2.15) (4.5.0)\n",
      "Requirement already satisfied: six>=1.12.0 in c:\\users\\youssef\\appdata\\local\\programs\\python\\python310\\lib\\site-packages (from tensorflow-intel==2.15.0->tensorflow==2.15) (1.16.0)\n",
      "Requirement already satisfied: h5py>=2.9.0 in c:\\users\\youssef\\appdata\\local\\programs\\python\\python310\\lib\\site-packages (from tensorflow-intel==2.15.0->tensorflow==2.15) (3.11.0)\n",
      "Requirement already satisfied: numpy<2.0.0,>=1.23.5 in c:\\users\\youssef\\appdata\\local\\programs\\python\\python310\\lib\\site-packages (from tensorflow-intel==2.15.0->tensorflow==2.15) (1.26.4)\n",
      "Requirement already satisfied: wheel<1.0,>=0.23.0 in c:\\users\\youssef\\appdata\\local\\programs\\python\\python310\\lib\\site-packages (from astunparse>=1.6.0->tensorflow-intel==2.15.0->tensorflow==2.15) (0.40.0)\n",
      "Requirement already satisfied: google-auth-oauthlib<2,>=0.5 in c:\\users\\youssef\\appdata\\local\\programs\\python\\python310\\lib\\site-packages (from tensorboard<2.16,>=2.15->tensorflow-intel==2.15.0->tensorflow==2.15) (1.0.0)\n",
      "Requirement already satisfied: google-auth<3,>=1.6.3 in c:\\users\\youssef\\appdata\\local\\programs\\python\\python310\\lib\\site-packages (from tensorboard<2.16,>=2.15->tensorflow-intel==2.15.0->tensorflow==2.15) (2.17.2)\n",
      "Requirement already satisfied: werkzeug>=1.0.1 in c:\\users\\youssef\\appdata\\local\\programs\\python\\python310\\lib\\site-packages (from tensorboard<2.16,>=2.15->tensorflow-intel==2.15.0->tensorflow==2.15) (2.2.3)\n",
      "Requirement already satisfied: markdown>=2.6.8 in c:\\users\\youssef\\appdata\\local\\programs\\python\\python310\\lib\\site-packages (from tensorboard<2.16,>=2.15->tensorflow-intel==2.15.0->tensorflow==2.15) (3.4.3)\n",
      "Requirement already satisfied: requests<3,>=2.21.0 in c:\\users\\youssef\\appdata\\local\\programs\\python\\python310\\lib\\site-packages (from tensorboard<2.16,>=2.15->tensorflow-intel==2.15.0->tensorflow==2.15) (2.28.1)\n",
      "Requirement already satisfied: tensorboard-data-server<0.8.0,>=0.7.0 in c:\\users\\youssef\\appdata\\local\\programs\\python\\python310\\lib\\site-packages (from tensorboard<2.16,>=2.15->tensorflow-intel==2.15.0->tensorflow==2.15) (0.7.0)\n",
      "Requirement already satisfied: pyparsing!=3.0.5,>=2.0.2 in c:\\users\\youssef\\appdata\\local\\programs\\python\\python310\\lib\\site-packages (from packaging->tensorflow-intel==2.15.0->tensorflow==2.15) (3.0.9)\n",
      "Requirement already satisfied: pyasn1-modules>=0.2.1 in c:\\users\\youssef\\appdata\\local\\programs\\python\\python310\\lib\\site-packages (from google-auth<3,>=1.6.3->tensorboard<2.16,>=2.15->tensorflow-intel==2.15.0->tensorflow==2.15) (0.2.8)\n",
      "Requirement already satisfied: cachetools<6.0,>=2.0.0 in c:\\users\\youssef\\appdata\\local\\programs\\python\\python310\\lib\\site-packages (from google-auth<3,>=1.6.3->tensorboard<2.16,>=2.15->tensorflow-intel==2.15.0->tensorflow==2.15) (5.3.0)\n",
      "Requirement already satisfied: rsa<5,>=3.1.4 in c:\\users\\youssef\\appdata\\local\\programs\\python\\python310\\lib\\site-packages (from google-auth<3,>=1.6.3->tensorboard<2.16,>=2.15->tensorflow-intel==2.15.0->tensorflow==2.15) (4.9)\n",
      "Requirement already satisfied: requests-oauthlib>=0.7.0 in c:\\users\\youssef\\appdata\\local\\programs\\python\\python310\\lib\\site-packages (from google-auth-oauthlib<2,>=0.5->tensorboard<2.16,>=2.15->tensorflow-intel==2.15.0->tensorflow==2.15) (1.3.1)\n",
      "Requirement already satisfied: idna<4,>=2.5 in c:\\users\\youssef\\appdata\\local\\programs\\python\\python310\\lib\\site-packages (from requests<3,>=2.21.0->tensorboard<2.16,>=2.15->tensorflow-intel==2.15.0->tensorflow==2.15) (3.4)\n",
      "Requirement already satisfied: urllib3<1.27,>=1.21.1 in c:\\users\\youssef\\appdata\\local\\programs\\python\\python310\\lib\\site-packages (from requests<3,>=2.21.0->tensorboard<2.16,>=2.15->tensorflow-intel==2.15.0->tensorflow==2.15) (1.26.12)\n",
      "Requirement already satisfied: charset-normalizer<3,>=2 in c:\\users\\youssef\\appdata\\local\\programs\\python\\python310\\lib\\site-packages (from requests<3,>=2.21.0->tensorboard<2.16,>=2.15->tensorflow-intel==2.15.0->tensorflow==2.15) (2.1.1)\n",
      "Requirement already satisfied: certifi>=2017.4.17 in c:\\users\\youssef\\appdata\\local\\programs\\python\\python310\\lib\\site-packages (from requests<3,>=2.21.0->tensorboard<2.16,>=2.15->tensorflow-intel==2.15.0->tensorflow==2.15) (2022.9.24)\n",
      "Requirement already satisfied: MarkupSafe>=2.1.1 in c:\\users\\youssef\\appdata\\local\\programs\\python\\python310\\lib\\site-packages (from werkzeug>=1.0.1->tensorboard<2.16,>=2.15->tensorflow-intel==2.15.0->tensorflow==2.15) (2.1.2)\n",
      "Requirement already satisfied: pyasn1<0.5.0,>=0.4.6 in c:\\users\\youssef\\appdata\\local\\programs\\python\\python310\\lib\\site-packages (from pyasn1-modules>=0.2.1->google-auth<3,>=1.6.3->tensorboard<2.16,>=2.15->tensorflow-intel==2.15.0->tensorflow==2.15) (0.4.8)\n",
      "Requirement already satisfied: oauthlib>=3.0.0 in c:\\users\\youssef\\appdata\\local\\programs\\python\\python310\\lib\\site-packages (from requests-oauthlib>=0.7.0->google-auth-oauthlib<2,>=0.5->tensorboard<2.16,>=2.15->tensorflow-intel==2.15.0->tensorflow==2.15) (3.2.2)\n"
     ]
    },
    {
     "name": "stderr",
     "output_type": "stream",
     "text": [
      "WARNING: Ignoring invalid distribution - (c:\\users\\youssef\\appdata\\local\\programs\\python\\python310\\lib\\site-packages)\n",
      "WARNING: Ignoring invalid distribution -ensorflow-intel (c:\\users\\youssef\\appdata\\local\\programs\\python\\python310\\lib\\site-packages)\n",
      "WARNING: Ignoring invalid distribution - (c:\\users\\youssef\\appdata\\local\\programs\\python\\python310\\lib\\site-packages)\n",
      "WARNING: Ignoring invalid distribution -ensorflow-intel (c:\\users\\youssef\\appdata\\local\\programs\\python\\python310\\lib\\site-packages)\n",
      "WARNING: Ignoring invalid distribution - (c:\\users\\youssef\\appdata\\local\\programs\\python\\python310\\lib\\site-packages)\n",
      "WARNING: Ignoring invalid distribution -ensorflow-intel (c:\\users\\youssef\\appdata\\local\\programs\\python\\python310\\lib\\site-packages)\n",
      "WARNING: Ignoring invalid distribution - (c:\\users\\youssef\\appdata\\local\\programs\\python\\python310\\lib\\site-packages)\n",
      "WARNING: Ignoring invalid distribution -ensorflow-intel (c:\\users\\youssef\\appdata\\local\\programs\\python\\python310\\lib\\site-packages)\n",
      "WARNING: Ignoring invalid distribution - (c:\\users\\youssef\\appdata\\local\\programs\\python\\python310\\lib\\site-packages)\n",
      "WARNING: Ignoring invalid distribution -ensorflow-intel (c:\\users\\youssef\\appdata\\local\\programs\\python\\python310\\lib\\site-packages)\n",
      "WARNING: Ignoring invalid distribution - (c:\\users\\youssef\\appdata\\local\\programs\\python\\python310\\lib\\site-packages)\n",
      "WARNING: Ignoring invalid distribution -ensorflow-intel (c:\\users\\youssef\\appdata\\local\\programs\\python\\python310\\lib\\site-packages)\n",
      "WARNING: You are using pip version 22.0.4; however, version 24.1.1 is available.\n",
      "You should consider upgrading via the 'C:\\Users\\youssef\\AppData\\Local\\Programs\\Python\\Python310\\python.exe -m pip install --upgrade pip' command.\n"
     ]
    }
   ],
   "source": [
    "!pip install tensorflow==2.15"
   ]
  },
  {
   "cell_type": "code",
   "execution_count": 17,
   "id": "b29863a0f72a2a97",
   "metadata": {
    "ExecuteTime": {
     "end_time": "2024-07-04T20:26:11.802334Z",
     "start_time": "2024-07-04T20:26:11.789725Z"
    },
    "collapsed": false
   },
   "outputs": [],
   "source": [
    "import os\n",
    "import random\n",
    "import numpy as np\n",
    "import pandas as pd\n",
    "import matplotlib.pyplot as plt\n",
    "import tensorflow as tf\n",
    "from tensorflow.keras.preprocessing.image import ImageDataGenerator\n",
    "from tensorflow.keras.models import Model\n",
    "from tensorflow.keras.layers import GlobalAveragePooling2D, Dense, Flatten, Dropout,BatchNormalization\n",
    "from tensorflow.keras.optimizers import Adam, SGD\n",
    "import tensorflow_hub as hub\n",
    "from sklearn.metrics import confusion_matrix,classification_report,multilabel_confusion_matrix\n",
    "import tqdm\n",
    "from sklearn.metrics import cohen_kappa_score\n",
    "import cv2\n",
    "from tensorflow.image import resize\n",
    "import re\n"
   ]
  },
  {
   "cell_type": "code",
   "execution_count": 18,
   "id": "80bf8b1557d99b8",
   "metadata": {
    "ExecuteTime": {
     "end_time": "2024-07-04T20:26:11.817881Z",
     "start_time": "2024-07-04T20:26:11.804334Z"
    },
    "collapsed": false
   },
   "outputs": [
    {
     "name": "stdout",
     "output_type": "stream",
     "text": [
      "2.15.0\n"
     ]
    }
   ],
   "source": [
    "print(tf.__version__)"
   ]
  },
  {
   "cell_type": "code",
   "execution_count": 18,
   "id": "bd3ba7834c9c2893",
   "metadata": {
    "ExecuteTime": {
     "end_time": "2024-07-04T20:26:11.833907Z",
     "start_time": "2024-07-04T20:26:11.821385Z"
    },
    "collapsed": false
   },
   "outputs": [],
   "source": []
  },
  {
   "cell_type": "code",
   "execution_count": 19,
   "id": "5b35d32f78bf643a",
   "metadata": {
    "ExecuteTime": {
     "end_time": "2024-07-04T20:26:11.849417Z",
     "start_time": "2024-07-04T20:26:11.836903Z"
    },
    "collapsed": false
   },
   "outputs": [],
   "source": [
    "NUM_BONE_TYPES = 12\n",
    "IMAGE_SIZE = (256, 256)\n",
    "batch_size = 32"
   ]
  },
  {
   "cell_type": "code",
   "execution_count": 20,
   "id": "27a8a2402b215151",
   "metadata": {
    "ExecuteTime": {
     "end_time": "2024-07-04T20:26:22.547619Z",
     "start_time": "2024-07-04T20:26:11.851411Z"
    },
    "collapsed": false
   },
   "outputs": [],
   "source": [
    "class MyEfficientNetModel(tf.keras.Model):\n",
    "    def __init__(self):\n",
    "        super(MyEfficientNetModel, self).__init__()\n",
    "        model_url = \"https://tfhub.dev/google/efficientnet/b5/feature-vector/1\"\n",
    "        self.efficientnet_model = hub.KerasLayer(model_url, trainable=False)\n",
    "        self.dense_layer6 = Dense(32,activation='relu')\n",
    "        self.batchnorm6 = BatchNormalization()\n",
    "        self.dropout_layer6 = Dropout(0.3)\n",
    "        self.dense_layer5 = Dense(32,activation='relu')\n",
    "        self.batchnorm5 = BatchNormalization()\n",
    "        self.dropout_layer5 = Dropout(0.3)\n",
    "        self.dense_layer4 = Dense(32,activation='relu')\n",
    "        self.batchnorm4 = BatchNormalization()\n",
    "        self.dropout_layer4 = Dropout(0.3)\n",
    "        self.dense_layer3 = Dense(32,activation='relu')\n",
    "        self.batchnorm3 = BatchNormalization()\n",
    "        self.dropout_layer3 = Dropout(0.3)\n",
    "        self.dense_layer2 = Dense(32,activation='relu')\n",
    "        self.batchnorm2 = BatchNormalization()\n",
    "        self.dropout_layer2 = Dropout(0.3)\n",
    "        self.dense_layer = Dense(NUM_BONE_TYPES, activation='sigmoid')\n",
    "\n",
    "    def call(self, inputs):\n",
    "        x = self.efficientnet_model(inputs)\n",
    "        dense6 = self.dense_layer6(x)\n",
    "        batch6 = self.batchnorm6(dense6)\n",
    "        dropout6 = self.dropout_layer6(batch6)\n",
    "        dense5 = self.dense_layer5(dropout6)\n",
    "        batch5 = self.batchnorm5(dense5)\n",
    "        dropout5 = self.dropout_layer5(batch5)\n",
    "        dense4 = self.dense_layer4(dropout5)\n",
    "        batch4 = self.batchnorm4(dense4)\n",
    "        dropout4 = self.dropout_layer4(batch4)\n",
    "        dense3 = self.dense_layer3(dropout4)\n",
    "        batch3 = self.batchnorm3(dense3)\n",
    "        dropout3 = self.dropout_layer3(batch3)\n",
    "        dense2 = self.dense_layer2(dropout3)\n",
    "        batch2 = self.batchnorm2(dense2)\n",
    "        dropout2 = self.dropout_layer2(batch2)\n",
    "        outputs = self.dense_layer(dropout2)\n",
    "        return outputs\n",
    "\n",
    "model = MyEfficientNetModel()\n",
    "\n",
    "dummy_input = np.zeros((1, *IMAGE_SIZE, 3), dtype=np.float32)\n",
    "_ = model(dummy_input)\n",
    "\n",
    "model.load_weights(r\"C:\\Users\\youssef\\Desktop\\API\\EfficientnetMulti_label_optimiz.h5\")"
   ]
  },
  {
   "cell_type": "code",
   "execution_count": 21,
   "id": "5c8cecc568aa413b",
   "metadata": {
    "ExecuteTime": {
     "end_time": "2024-07-04T20:26:22.578788Z",
     "start_time": "2024-07-04T20:26:22.550614Z"
    },
    "collapsed": false
   },
   "outputs": [],
   "source": [
    "def Testing(Imagepath, mymodel):\n",
    "    test_image = cv2.imread(Imagepath,cv2.IMREAD_COLOR)\n",
    "    test_image = cv2.cvtColor(test_image, cv2.COLOR_BGR2RGB)  \n",
    "    lab = cv2.cvtColor(test_image, cv2.COLOR_RGB2Lab)\n",
    "    l, a, b = cv2.split(lab)\n",
    "    clahe = cv2.createCLAHE(clipLimit=4.0, tileGridSize=(8, 8))\n",
    "    l_clahe = clahe.apply(l)\n",
    "    lab_clahe = cv2.merge([l_clahe, a, b])\n",
    "    clahe_image = cv2.cvtColor(lab_clahe, cv2.COLOR_Lab2RGB)\n",
    "    clahe_image=cv2.cvtColor(clahe_image, cv2.COLOR_RGB2BGR)\n",
    "    test_image = clahe_image / 255.0\n",
    "    test_image = resize(clahe_image, (256, 256))\n",
    "    test_image = np.expand_dims(test_image, axis=0)  \n",
    "\n",
    "    probability_test = mymodel.predict(test_image)\n",
    "\n",
    "    classes = ['ANKLE', 'ELBOW', 'FINGER', 'FOOT', 'FOREARM', 'HAND', 'HIP', 'HUMERUS', 'KNEE', 'SHOULDER', 'WRIST', 'Abnormalitiy']\n",
    "    sorted_indices = np.argsort(probability_test[0])[::-1]\n",
    "\n",
    "    Predicted_Classes = {}\n",
    "    for i in range(12):\n",
    "        Predicted_Classes[classes[sorted_indices[i]]] = probability_test[0][sorted_indices[i]]\n",
    "\n",
    "    top_class = None\n",
    "    for idx in sorted_indices:\n",
    "        if classes[idx] != 'Abnormalitiy':\n",
    "            top_class = classes[idx]\n",
    "            break\n",
    "\n",
    "    print(\"The x-Ray Bone type is\", top_class)\n",
    "    Fractured = False\n",
    "    abnormality_probability = probability_test[0, -1] \n",
    "    if abnormality_probability >= 0.35:\n",
    "        print(\"Positive: Fractured Bone\")\n",
    "        Fractured = True\n",
    "        explainer = lime_image.LimeImageExplainer()\n",
    "        input_image = test_image[0]  \n",
    "\n",
    "        explanation = explainer.explain_instance(\n",
    "        input_image,\n",
    "        mymodel.predict,\n",
    "        top_labels=2,  \n",
    "        hide_color=0,\n",
    "        num_samples=1000 \n",
    "        )\n",
    "\n",
    "        temp, mask = explanation.get_image_and_mask(\n",
    "            11,\n",
    "            positive_only=True,\n",
    "            num_features=5,  \n",
    "            hide_rest=False,\n",
    "            min_weight=0.0\n",
    "        )\n",
    "\n",
    "        plt.imshow(input_image)\n",
    "        plt.imshow(mask, cmap='jet', alpha=0.2) \n",
    "        plt.axis('off')\n",
    "        plt.show()\n",
    "    else:\n",
    "        print(\"Negative: Normal Bone\")\n",
    "\n",
    "    return Predicted_Classes,Fractured\n"
   ]
  }
 ],
 "metadata": {
  "kernelspec": {
   "display_name": "Python 3",
   "language": "python",
   "name": "python3"
  },
  "language_info": {
   "codemirror_mode": {
    "name": "ipython",
    "version": 2
   },
   "file_extension": ".py",
   "mimetype": "text/x-python",
   "name": "python",
   "nbconvert_exporter": "python",
   "pygments_lexer": "ipython2",
   "version": "2.7.6"
  }
 },
 "nbformat": 4,
 "nbformat_minor": 5
}
